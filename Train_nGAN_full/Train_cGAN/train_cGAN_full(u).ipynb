{
 "cells": [
  {
   "cell_type": "markdown",
   "metadata": {},
   "source": [
    "The ipynb builds a model using the exising tsgm agent cgan"
   ]
  },
  {
   "cell_type": "code",
   "execution_count": null,
   "metadata": {},
   "outputs": [],
   "source": [
    "import tsgm \n",
    "import tensorflow as tf\n",
    "from tensorflow import keras\n",
    "import numpy as np\n",
    "\n",
    "gpus = tf.config.experimental.list_physical_devices('GPU')\n",
    "if gpus:\n",
    "    try:\n",
    "        for gpu in gpus:\n",
    "            tf.config.experimental.set_memory_growth(gpu, True)\n",
    "        print(\"Memory growth enabled for GPU.\")\n",
    "    except RuntimeError as e:\n",
    "        print(e)\n",
    "\n",
    "memory_limit = 6000\n",
    "if gpus:\n",
    "    try:\n",
    "        tf.config.experimental.set_virtual_device_configuration(\n",
    "            gpus[0],\n",
    "            [tf.config.experimental.VirtualDeviceConfiguration(memory_limit=memory_limit)]\n",
    "        )\n",
    "        print(f\"Memory limit set to {memory_limit} MB for GPU.\")\n",
    "    except RuntimeError as e:\n",
    "        print(e)\n",
    "\n",
    "import pandas as pd \n",
    "import numpy as np\n",
    "from tensorflow.keras.layers import Reshape\n",
    "\n"
   ]
  },
  {
   "cell_type": "code",
   "execution_count": null,
   "metadata": {},
   "outputs": [],
   "source": [
    "latent_dim = 100\n",
    "seq_len = 100\n",
    "feature_dim = 2\n",
    "\n",
    "dataset = np.load(\"/home/junze/.jupyter/Data transfer and loading/dataset_1.csv.npy\")\n",
    "print(\"Dataset shape:\", dataset.shape)\n",
    "seq_len, feature_dim = dataset.shape[1], dataset.shape[2]\n",
    "latent_dim = 100\n",
    "\n",
    "# Create a custom encoder\n",
    "class Sampling(tf.keras.layers.Layer):\n",
    "    def call(self, inputs):\n",
    "        z_mean, z_log_var = inputs\n",
    "        batch = tf.shape(z_mean)[0]\n",
    "        dim = tf.shape(z_mean)[1]\n",
    "        epsilon = tf.keras.backend.random_normal(shape=(batch, dim))\n",
    "        return z_mean + tf.exp(0.5 * z_log_var) * epsilon\n",
    "\n",
    "def create_custom_encoder(seq_len, feature_dim, latent_dim):\n",
    "    inputs = tf.keras.Input(shape=(seq_len, feature_dim))\n",
    "    x = tf.keras.layers.Conv1D(32, 3, activation=\"relu\", padding=\"same\")(inputs)\n",
    "    x = tf.keras.layers.Conv1D(64, 3, activation=\"relu\", padding=\"same\")(x)\n",
    "    x = tf.keras.layers.Flatten()(x)\n",
    "    x = tf.keras.layers.Dense(256, activation=\"relu\")(x)\n",
    "    \n",
    "    z_mean = tf.keras.layers.Dense(latent_dim, name=\"z_mean\")(x)\n",
    "    z_log_var = tf.keras.layers.Dense(latent_dim, name=\"z_log_var\")(x)\n",
    "    z = Sampling()([z_mean, z_log_var])\n",
    "    \n",
    "    encoder = tf.keras.Model(inputs=inputs, outputs=[z_mean, z_log_var, z])\n",
    "    return encoder\n",
    "\n",
    "# Create a custom decoder\n",
    "def create_custom_decoder(seq_len, feature_dim, latent_dim):\n",
    "    latent_inputs = tf.keras.Input(shape=(latent_dim,))\n",
    "    x = tf.keras.layers.Dense(seq_len * 64, activation=\"relu\")(latent_inputs)\n",
    "    x = tf.keras.layers.Reshape((seq_len, 64))(x)\n",
    "    x = tf.keras.layers.Conv1D(32, 3, activation=\"relu\", padding=\"same\")(x)\n",
    "    x = tf.keras.layers.Conv1D(16, 3, activation=\"relu\", padding=\"same\")(x)\n",
    "    outputs = tf.keras.layers.Conv1D(feature_dim, 1, activation=\"sigmoid\")(x)\n",
    "    \n",
    "    decoder = tf.keras.Model(inputs=latent_inputs, outputs=outputs)\n",
    "    return decoder\n",
    "\n",
    "encoder = create_custom_encoder(seq_len, feature_dim, latent_dim)\n",
    "decoder = create_custom_decoder(seq_len, feature_dim, latent_dim)\n",
    "\n",
    "# Create the BetaVAE\n",
    "cvae = tsgm.models.cvae.BetaVAE(encoder, decoder)\n",
    "\n",
    "print(\"Encoder summary:\")\n",
    "encoder.summary()\n",
    "\n",
    "print(\"\\nDecoder summary:\")\n",
    "decoder.summary()\n",
    "\n",
    "# Compile and fit the model\n",
    "cvae.compile(optimizer=tf.keras.optimizers.Adam())\n",
    "cvae.fit(dataset, epochs=1000, batch_size=64)"
   ]
  },
  {
   "cell_type": "code",
   "execution_count": null,
   "metadata": {},
   "outputs": [],
   "source": [
    "cvae.compile()\n",
    "cvae.fit(dataset, epochs=1000, batch_size=64)"
   ]
  }
 ],
 "metadata": {
  "kernelspec": {
   "display_name": "tsgm1",
   "language": "python",
   "name": "python3"
  },
  "language_info": {
   "codemirror_mode": {
    "name": "ipython",
    "version": 3
   },
   "file_extension": ".py",
   "mimetype": "text/x-python",
   "name": "python",
   "nbconvert_exporter": "python",
   "pygments_lexer": "ipython3",
   "version": "3.10.14"
  }
 },
 "nbformat": 4,
 "nbformat_minor": 2
}
