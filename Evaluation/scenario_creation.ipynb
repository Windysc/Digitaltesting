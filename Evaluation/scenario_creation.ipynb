{
 "cells": [
  {
   "cell_type": "code",
   "execution_count": null,
   "metadata": {},
   "outputs": [],
   "source": [
    "import pandas as pd\n",
    "import matplotlib.pyplot as plt\n",
    "import numpy as np\n",
    "import random\n",
    "\n",
    "\n",
    "def read_trajectory(file_path):\n",
    "    trajectory = np.load(file_path)\n",
    "    k = random.randrange(200)\n",
    "    return trajectory[k,: :, 0], trajectory[k,: :, 1]\n",
    "\n",
    "trajectory1_x, trajectory1_y = read_trajectory('')\n",
    "trajectory2_x, trajectory2_y = read_trajectory('')\n",
    "\n",
    "\n",
    "plt.figure(figsize=(12, 8))\n",
    "\n"
   ]
  },
  {
   "cell_type": "code",
   "execution_count": null,
   "metadata": {},
   "outputs": [],
   "source": [
    "\n",
    "plt.scatter(trajectory1_x, trajectory1_y, c='blue', alpha=0.6, label='Object 1 (Scatter)')\n",
    "\n",
    "plt.scatter(trajectory2_x, trajectory2_y, c='red', alpha=0.6, label='Object 2 (Scatter)')\n",
    "\n",
    "\n",
    "plt.title('Merged Trajectories of Two Objects', fontsize=16)\n",
    "plt.xlabel('X Coordinate', fontsize=12)\n",
    "plt.ylabel('Y Coordinate', fontsize=12)\n",
    "plt.legend(fontsize=10)\n",
    "plt.grid(True, linestyle='--', alpha=0.7)\n",
    "\n",
    "\n",
    "plt.axis('equal')\n",
    "\n",
    "\n",
    "plt.savefig('merged_trajectories.png', dpi=300, bbox_inches='tight')\n",
    "\n",
    "\n",
    "plt.show()"
   ]
  },
  {
   "cell_type": "code",
   "execution_count": null,
   "metadata": {},
   "outputs": [],
   "source": [
    "fig, (ax1, ax2) = plt.subplots(1, 2, figsize=(20, 8))\n",
    "\n",
    "ax1.plot(trajectory1_x, trajectory1_y, c='blue', label='Trajectory 1')\n",
    "ax1.plot(trajectory2_x, trajectory2_y, c='red', linestyle='--', label='Trajectory 2')\n",
    "ax1.set_title('Trajectory Comparison', fontsize=16)\n",
    "ax1.set_xlabel('Longitude (degrees)', fontsize=12)\n",
    "ax1.set_ylabel('Latitude (degrees)', fontsize=12)\n",
    "ax1.legend(fontsize=10)\n",
    "ax1.grid(True, linestyle='--', alpha=0.7)\n",
    "\n",
    "order1 = np.arange(len(trajectory1_x))\n",
    "order2 = np.arange(len(trajectory2_x))\n",
    "\n",
    "scatter1 = ax2.scatter(trajectory1_x, trajectory1_y, c=order1, cmap='Blues_r', label='Trajectory 1', alpha=0.7)\n",
    "scatter2 = ax2.scatter(trajectory2_x, trajectory2_y, c=order2, cmap='Reds_r', label='Trajectory 2', alpha=0.7)\n",
    "ax2.set_title('Point Distribution', fontsize=16)\n",
    "ax2.set_xlabel('Longitude (degrees)', fontsize=12)\n",
    "ax2.set_ylabel('Latitude (degrees)', fontsize=12)\n",
    "ax2.legend(fontsize=10)\n",
    "ax2.grid(True, linestyle='--', alpha=0.7)\n",
    "\n",
    "ax1.axis('equal')\n",
    "ax2.axis('equal')\n",
    "\n",
    "plt.tight_layout()\n",
    "plt.savefig('trajectory_comparison.png', dpi=300, bbox_inches='tight')\n",
    "plt.show()"
   ]
  }
 ],
 "metadata": {
  "kernelspec": {
   "display_name": "tsgm1",
   "language": "python",
   "name": "python3"
  },
  "language_info": {
   "codemirror_mode": {
    "name": "ipython",
    "version": 3
   },
   "file_extension": ".py",
   "mimetype": "text/x-python",
   "name": "python",
   "nbconvert_exporter": "python",
   "pygments_lexer": "ipython3",
   "version": "3.10.14"
  }
 },
 "nbformat": 4,
 "nbformat_minor": 2
}
